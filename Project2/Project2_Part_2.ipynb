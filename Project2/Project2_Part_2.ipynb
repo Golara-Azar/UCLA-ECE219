{
  "cells": [
    {
      "cell_type": "code",
      "execution_count": null,
      "id": "279cb3aa",
      "metadata": {
        "id": "279cb3aa"
      },
      "outputs": [],
      "source": [
        "import numpy as np\n",
        "import matplotlib.pyplot as plt\n",
        "from sklearn.datasets import fetch_20newsgroups\n",
        "from sklearn.feature_extraction.text import TfidfTransformer\n",
        "from sklearn.feature_extraction.text import CountVectorizer\n",
        "from sklearn.pipeline import Pipeline\n",
        "from sklearn import metrics\n",
        "import nltk\n",
        "# We need to download the following to avoid errors.\n",
        "nltk.download('punkt')\n",
        "nltk.download('wordnet')\n",
        "nltk.download('omw-1.4')\n",
        "nltk.download('stopwords')\n",
        "import string\n",
        "from sklearn.cluster import KMeans\n",
        "from sklearn.metrics.cluster import contingency_matrix\n",
        "from sklearn.decomposition import TruncatedSVD\n",
        "from sklearn.decomposition import NMF\n",
        "from collections import defaultdict\n",
        "!pip install umap-learn[plot]\n",
        "!pip install holoviews\n",
        "!pip install -U ipykernel\n",
        "import umap.umap_ as umap\n",
        "from sklearn.cluster import AgglomerativeClustering\n",
        "!pip install hdbscan\n",
        "import hdbscan\n",
        "from sklearn.model_selection import GridSearchCV, RandomizedSearchCV\n",
        "from sklearn.base import BaseEstimator, TransformerMixin"
      ]
    },
    {
      "cell_type": "markdown",
      "id": "79e7261b",
      "metadata": {
        "id": "79e7261b"
      },
      "source": [
        "# Part 2"
      ]
    },
    {
      "cell_type": "markdown",
      "id": "bd22dd5b",
      "metadata": {
        "id": "bd22dd5b"
      },
      "source": [
        "QUESTION 19: In a brief paragraph discuss: If the VGG network is trained on a dataset with perhaps totally different classes as targets, why would one expect the features derived from such a network to have discriminative power for a custom dataset?<br>\n",
        "*VGG network includes many layers and filters. This helps the network to recognize a variety of complex shapes and objects. The early layers in VGG recognize simple shapes such as lines and edges and deeper layers recognize more complicated shapes such as people or vehicles. Since any type of image database we work with, even if it has completely different labels, will need network layers to recognize simple shapes (edges, lines, etc.), we can use features extracted from a pretrained VGG network. However, based on the dataset we are working with we might need to fine-tune some layers, especially final (deep) layers. This is the general idea of Transfer Learning.*"
      ]
    },
    {
      "cell_type": "markdown",
      "id": "fa81d9b1",
      "metadata": {
        "id": "fa81d9b1"
      },
      "source": [
        "**NOTE:** Due to limitations of my computer, I ran Part 2 on Google Colab."
      ]
    },
    {
      "cell_type": "code",
      "execution_count": 2,
      "metadata": {
        "id": "74f2aed9",
        "colab": {
          "base_uri": "https://localhost:8080/",
          "height": 194,
          "referenced_widgets": [
            "31c1fa9acf9347e1891a5e4fa6fcfd0f",
            "67e40992dfdb4b4ba0e540c3ef5fe341",
            "da05f73da3e74d17afe2e00f5b39180e",
            "6a6ce6e778dc49e39f3bb4ea135e775f",
            "8fad4bed52d74492a9cbdfadb26e38e2",
            "af19643aaa4643c4acaa821a27d14b6e",
            "95d37acc4c864ae8802d9fb38f96971b",
            "9c5e5511920a4dcf9e3200cab5125522",
            "5d587de1675e479eb9bbe8f220fc9ec3",
            "d61cf6ef555c4c64b369b29f037143cd",
            "55b633944ff24f75a9d925e3295a6abd"
          ]
        },
        "outputId": "b0fc2d05-3f46-4bad-86a8-499fc369fbc9"
      },
      "outputs": [
        {
          "output_type": "stream",
          "name": "stderr",
          "text": [
            "Downloading: \"https://github.com/pytorch/vision/zipball/v0.10.0\" to /root/.cache/torch/hub/v0.10.0.zip\n",
            "/usr/local/lib/python3.8/dist-packages/torchvision/models/_utils.py:208: UserWarning: The parameter 'pretrained' is deprecated since 0.13 and may be removed in the future, please use 'weights' instead.\n",
            "  warnings.warn(\n",
            "/usr/local/lib/python3.8/dist-packages/torchvision/models/_utils.py:223: UserWarning: Arguments other than a weight enum or `None` for 'weights' are deprecated since 0.13 and may be removed in the future. The current behavior is equivalent to passing `weights=VGG16_Weights.IMAGENET1K_V1`. You can also use `weights=VGG16_Weights.DEFAULT` to get the most up-to-date weights.\n",
            "  warnings.warn(msg)\n",
            "Downloading: \"https://download.pytorch.org/models/vgg16-397923af.pth\" to /root/.cache/torch/hub/checkpoints/vgg16-397923af.pth\n"
          ]
        },
        {
          "output_type": "display_data",
          "data": {
            "text/plain": [
              "  0%|          | 0.00/528M [00:00<?, ?B/s]"
            ],
            "application/vnd.jupyter.widget-view+json": {
              "version_major": 2,
              "version_minor": 0,
              "model_id": "31c1fa9acf9347e1891a5e4fa6fcfd0f"
            }
          },
          "metadata": {}
        },
        {
          "output_type": "stream",
          "name": "stderr",
          "text": [
            "100%|██████████| 58/58 [00:43<00:00,  1.33it/s]\n"
          ]
        }
      ],
      "source": [
        "import torch\n",
        "import torch.nn as nn\n",
        "from torchvision import transforms, datasets\n",
        "from torch.utils.data import DataLoader, TensorDataset\n",
        "import numpy as np\n",
        "import matplotlib.pyplot as plt\n",
        "\n",
        "from tqdm import tqdm\n",
        "import requests\n",
        "import os\n",
        "import tarfile\n",
        "\n",
        "from sklearn.preprocessing import StandardScaler\n",
        "from sklearn.decomposition import PCA\n",
        "from sklearn.cluster import KMeans\n",
        "from sklearn.metrics import confusion_matrix, adjusted_rand_score, adjusted_mutual_info_score\n",
        "from sklearn.pipeline import Pipeline\n",
        "from sklearn.base import TransformerMixin\n",
        "\n",
        "filename = './flowers_features_and_labels.npz'\n",
        "\n",
        "if os.path.exists(filename):\n",
        "    file = np.load(filename)\n",
        "    f_all, y_all = file['f_all'], file['y_all']\n",
        "\n",
        "else:\n",
        "    if not os.path.exists('./flower_photos'):\n",
        "        # download the flowers dataset and extract its images\n",
        "        url = 'http://download.tensorflow.org/example_images/flower_photos.tgz'\n",
        "        with open('./flower_photos.tgz', 'wb') as file:\n",
        "            file.write(requests.get(url).content)\n",
        "        with tarfile.open('./flower_photos.tgz') as file:\n",
        "            file.extractall('./')\n",
        "        os.remove('./flower_photos.tgz')\n",
        "\n",
        "    class FeatureExtractor(nn.Module):\n",
        "        def __init__(self):\n",
        "            super().__init__()\n",
        "\n",
        "            vgg = torch.hub.load('pytorch/vision:v0.10.0', 'vgg16', pretrained=True)\n",
        "\n",
        "            # Extract VGG-16 Feature Layers\n",
        "            self.features = list(vgg.features)\n",
        "            self.features = nn.Sequential(*self.features)\n",
        "            # Extract VGG-16 Average Pooling Layer\n",
        "            self.pooling = vgg.avgpool\n",
        "            # Convert the image into one-dimensional vector\n",
        "            self.flatten = nn.Flatten()\n",
        "            # Extract the first part of fully-connected layer from VGG16\n",
        "            self.fc = vgg.classifier[0]\n",
        "\n",
        "        def forward(self, x):\n",
        "            # It will take the input 'x' until it returns the feature vector called 'out'\n",
        "            out = self.features(x)\n",
        "            out = self.pooling(out)\n",
        "            out = self.flatten(out)\n",
        "            out = self.fc(out) \n",
        "            return out \n",
        "\n",
        "    # Initialize the model\n",
        "    assert torch.cuda.is_available()\n",
        "    feature_extractor = FeatureExtractor().cuda().eval()\n",
        "\n",
        "    dataset = datasets.ImageFolder(root='./flower_photos',\n",
        "                                   transform=transforms.Compose([transforms.Resize(224),\n",
        "                                                                 transforms.CenterCrop(224),\n",
        "                                                                 transforms.ToTensor(),\n",
        "                                                                 transforms.Normalize(mean=[0.485, 0.456, 0.406], std=[0.229, 0.224, 0.225])]))\n",
        "    dataloader = DataLoader(dataset, batch_size=64, shuffle=True)\n",
        "\n",
        "    # Extract features and store them on disk\n",
        "    f_all, y_all = np.zeros((0, 4096)), np.zeros((0,))\n",
        "    for x, y in tqdm(dataloader):\n",
        "        with torch.no_grad():\n",
        "            f_all = np.vstack([f_all, feature_extractor(x.cuda()).cpu()])\n",
        "            y_all = np.concatenate([y_all, y])\n",
        "    np.savez(filename, f_all=f_all, y_all=y_all)"
      ],
      "id": "74f2aed9"
    },
    {
      "cell_type": "code",
      "execution_count": 3,
      "id": "80f7610a",
      "metadata": {
        "colab": {
          "base_uri": "https://localhost:8080/"
        },
        "id": "80f7610a",
        "outputId": "085e5db5-826c-424f-d0b8-b403a4dbb99e"
      },
      "outputs": [
        {
          "output_type": "stream",
          "name": "stdout",
          "text": [
            "(3670, 4096) (3670,)\n"
          ]
        }
      ],
      "source": [
        "print(f_all.shape, y_all.shape)\n",
        "num_features = f_all.shape[1]"
      ]
    },
    {
      "cell_type": "markdown",
      "id": "8a468324",
      "metadata": {
        "id": "8a468324"
      },
      "source": [
        "QUESTION 20: In a brief paragraph explain how the helper code base is performing feature extraction. <br>\n",
        "*This code uses a number of layers from VGG16 network to build a custom feature extractor. The layers that are used in order are: 1)VGG-16 Feature Layers 2)VGG-16 Average Pooling Layer 3)flattening which is basically converting data into one dimensional array that can be used for fully connected layers and 4)the first section of fully-connected layer from VGG16 network. These layers are stacked to create a feature extraction model. There are a total of 4096 output features per data sample.*\n",
        "<br>\n",
        "QUESTION 21: How many pixels are there in the original images? How many features does the VGG network extract per image; i.e what is the dimension of each feature vector for an image sample? <br>\n",
        "*The images are 3x224x224 which means they have 3 channels and 224 by 224 pixels on x and y axes. The feature vectors are 4096 dimensional.*"
      ]
    },
    {
      "cell_type": "code",
      "execution_count": null,
      "id": "6a4466f6",
      "metadata": {
        "colab": {
          "base_uri": "https://localhost:8080/"
        },
        "id": "6a4466f6",
        "outputId": "96540218-4bf2-4f05-c196-a49b1a8bd159"
      },
      "outputs": [
        {
          "output_type": "stream",
          "name": "stdout",
          "text": [
            "sample image shape:  torch.Size([3, 224, 224])\n",
            "feature vector shape per sample:  4096\n"
          ]
        }
      ],
      "source": [
        "print('sample image shape: ',x[0].shape)\n",
        "print('feature vector shape per sample: ',num_features)"
      ]
    },
    {
      "cell_type": "markdown",
      "id": "c7f7be20",
      "metadata": {
        "id": "c7f7be20"
      },
      "source": [
        "QUESTION 22: Are the extracted features dense or sparse? (Compare with sparse TF-IDF features in text.) <br>\n",
        "*These features are dense. If we compare to text TF-IDF vectors that had more than 23k parameters and were dense, we realize that the image feature vectors have lower dimension but more information.* <br>\n",
        "\n",
        "QUESTION 23: In order to inspect the high-dimensional features, t-SNE is a popular off-the-shelf choice for visualizing Vision features. Map the features you have extracted onto 2 dimensions with t-SNE. Then plot the mapped feature vectors along x and y axes. Color-code the data points with ground-truth labels. Describe your observation. <br>\n",
        "*Based on the visualization below, it seems that the feature extraction method based on VGG is able to roughly separate data based on their different labels. There are some samples that are not separated well which hints that we might need to fine tune a few layers of the classification model we are using.*"
      ]
    },
    {
      "cell_type": "code",
      "execution_count": null,
      "id": "b712abbb",
      "metadata": {
        "colab": {
          "base_uri": "https://localhost:8080/",
          "height": 558
        },
        "id": "b712abbb",
        "outputId": "ae7d1d01-ad51-4a72-f3a5-ce4f612fa837"
      },
      "outputs": [
        {
          "output_type": "execute_result",
          "data": {
            "text/plain": [
              "Text(0.5, 0.98, 'Visualizing the t-SNE mapped feature vectors')"
            ]
          },
          "metadata": {},
          "execution_count": 14
        },
        {
          "output_type": "display_data",
          "data": {
            "text/plain": [
              "<Figure size 576x576 with 1 Axes>"
            ],
            "image/png": "[encoded data removed]"
          },
          "metadata": {
            "needs_background": "light"
          }
        }
      ],
      "source": [
        "from sklearn.manifold import TSNE\n",
        "X_embedded = TSNE(n_components=2, learning_rate='auto',init='random',\n",
        "                  perplexity=3).fit_transform(f_all)\n",
        "fig,ax1 = plt.subplots(1,1,figsize=(8, 8))\n",
        "sc1 = ax1.scatter(X_embedded[:,0], X_embedded[:, 1], c=y_all,\n",
        "                  cmap='Spectral', s=8)\n",
        "\n",
        "ax1.set_title('Ground truth class label')\n",
        "\n",
        "handles, labels = sc1.legend_elements(prop=\"colors\", alpha=0.6)\n",
        "leg1 = ax1.legend(handles, labels, loc=\"lower right\", title=\"true class\")\n",
        "\n",
        "fig.suptitle('Visualizing the t-SNE mapped feature vectors')"
      ]
    },
    {
      "cell_type": "code",
      "execution_count": 4,
      "id": "b9717b6a",
      "metadata": {
        "id": "b9717b6a"
      },
      "outputs": [],
      "source": [
        "class Autoencoder(torch.nn.Module, TransformerMixin):\n",
        "    def __init__(self, n_components):\n",
        "        super().__init__()\n",
        "        self.n_components = n_components\n",
        "        self.n_features = None  # to be determined with data\n",
        "        self.encoder = None\n",
        "        self.decoder = None\n",
        "        \n",
        "    def _create_encoder(self):\n",
        "        return nn.Sequential(\n",
        "            nn.Linear(4096, 1280),\n",
        "            nn.ReLU(True),\n",
        "            nn.Linear(1280, 640),\n",
        "            nn.ReLU(True), nn.Linear(640, 120), nn.ReLU(True),\n",
        "             nn.Linear(120, self.n_components))\n",
        "    \n",
        "    def _create_decoder(self):\n",
        "        return nn.Sequential(\n",
        "            nn.Linear(self.n_components, 120),\n",
        "            nn.ReLU(True),\n",
        "            nn.Linear(120, 640),\n",
        "            nn.ReLU(True),\n",
        "            nn.Linear(640, 1280),\n",
        "            nn.ReLU(True), nn.Linear(1280, 4096))\n",
        "    \n",
        "    def forward(self, X,y=None):\n",
        "        encoded = self.encoder(X)\n",
        "        decoded = self.decoder(encoded)\n",
        "        return decoded\n",
        "    \n",
        "    def fit(self, X,y=None):\n",
        "        X = torch.tensor(X, dtype=torch.float32, device='cuda')\n",
        "        self.n_features = X.shape[1]\n",
        "        self.encoder = self._create_encoder()\n",
        "        self.decoder = self._create_decoder()\n",
        "        self.cuda()\n",
        "        self.train()\n",
        "        \n",
        "        criterion = nn.MSELoss()\n",
        "        optimizer = torch.optim.Adam(self.parameters(), lr=1e-3,\n",
        "                                     weight_decay=1e-5)\n",
        "\n",
        "        dataset = TensorDataset(X)\n",
        "        dataloader = DataLoader(dataset, batch_size=128, shuffle=True)\n",
        "\n",
        "        for epoch in tqdm(range(100)):\n",
        "            for (X_,) in dataloader:\n",
        "                X_ = X_.cuda()\n",
        "                # ===================forward=====================\n",
        "                output = self(X_)\n",
        "                loss = criterion(output, X_)\n",
        "                # ===================backward====================\n",
        "                optimizer.zero_grad()\n",
        "                loss.backward()\n",
        "                optimizer.step()\n",
        "\n",
        "        return self     \n",
        "        \n",
        "    def transform(self, X, y=None):\n",
        "        X = torch.tensor(X, dtype=torch.float32, device='cuda')\n",
        "        self.eval()\n",
        "        with torch.no_grad():\n",
        "            return self.encoder(X).cpu().numpy()"
      ]
    },
    {
      "cell_type": "markdown",
      "id": "d52be50d",
      "metadata": {
        "id": "d52be50d"
      },
      "source": [
        "QUESTION 24: Report the best result (in terms of rand score) within the table below.\n",
        "For HDBSCAN, introduce a conservative parameter grid over min cluster size and min samples. <br>\n",
        "*Please see below for the evaluation of different combinations. I separately evaluated 3 clustering algorithms and then selected the one with the highest score (metrics.adjusted_rand_score)*"
      ]
    },
    {
      "cell_type": "markdown",
      "id": "5438f9ef",
      "metadata": {
        "id": "5438f9ef"
      },
      "source": [
        "### Evaluation of K-Means"
      ]
    },
    {
      "cell_type": "code",
      "execution_count": 5,
      "id": "dd609874",
      "metadata": {
        "colab": {
          "base_uri": "https://localhost:8080/"
        },
        "id": "dd609874",
        "outputId": "e4ea66f2-b86f-432f-9790-5642e0acd67f"
      },
      "outputs": [
        {
          "output_type": "stream",
          "name": "stdout",
          "text": [
            "Fitting 3 folds for each of 4 candidates, totalling 12 fits\n",
            "[CV] END Clustering=KMeans(max_iter=1000, n_clusters=50, n_init=30, random_state=0), Dimensionality Reduction=passthrough; total time= 1.4min\n",
            "[CV] END Clustering=KMeans(max_iter=1000, n_clusters=50, n_init=30, random_state=0), Dimensionality Reduction=passthrough; total time= 1.3min\n",
            "[CV] END Clustering=KMeans(max_iter=1000, n_clusters=50, n_init=30, random_state=0), Dimensionality Reduction=passthrough; total time= 1.3min\n",
            "[CV] END Clustering=KMeans(max_iter=1000, n_clusters=50, n_init=30, random_state=0), Dimensionality Reduction=TruncatedSVD(n_components=50); total time=   7.5s\n",
            "[CV] END Clustering=KMeans(max_iter=1000, n_clusters=50, n_init=30, random_state=0), Dimensionality Reduction=TruncatedSVD(n_components=50); total time=   5.8s\n",
            "[CV] END Clustering=KMeans(max_iter=1000, n_clusters=50, n_init=30, random_state=0), Dimensionality Reduction=TruncatedSVD(n_components=50); total time=   7.3s\n",
            "[CV] END Clustering=KMeans(max_iter=1000, n_clusters=50, n_init=30, random_state=0), Dimensionality Reduction=UMAP(metric='cosine', n_components=50); total time= 1.9min\n",
            "[CV] END Clustering=KMeans(max_iter=1000, n_clusters=50, n_init=30, random_state=0), Dimensionality Reduction=UMAP(metric='cosine', n_components=50); total time= 1.7min\n",
            "[CV] END Clustering=KMeans(max_iter=1000, n_clusters=50, n_init=30, random_state=0), Dimensionality Reduction=UMAP(metric='cosine', n_components=50); total time= 1.6min\n"
          ]
        },
        {
          "output_type": "stream",
          "name": "stderr",
          "text": [
            "100%|██████████| 100/100 [00:15<00:00,  6.39it/s]\n"
          ]
        },
        {
          "output_type": "stream",
          "name": "stdout",
          "text": [
            "[CV] END Clustering=KMeans(max_iter=1000, n_clusters=50, n_init=30, random_state=0), Dimensionality Reduction=Autoencoder(); total time=  21.9s\n"
          ]
        },
        {
          "output_type": "stream",
          "name": "stderr",
          "text": [
            "100%|██████████| 100/100 [00:15<00:00,  6.33it/s]\n"
          ]
        },
        {
          "output_type": "stream",
          "name": "stdout",
          "text": [
            "[CV] END Clustering=KMeans(max_iter=1000, n_clusters=50, n_init=30, random_state=0), Dimensionality Reduction=Autoencoder(); total time=  22.5s\n"
          ]
        },
        {
          "output_type": "stream",
          "name": "stderr",
          "text": [
            "100%|██████████| 100/100 [00:15<00:00,  6.26it/s]\n"
          ]
        },
        {
          "output_type": "stream",
          "name": "stdout",
          "text": [
            "[CV] END Clustering=KMeans(max_iter=1000, n_clusters=50, n_init=30, random_state=0), Dimensionality Reduction=Autoencoder(); total time=  20.7s\n",
            "Best parameter (CV score=0.138) score:\n",
            "Best combination:  {'Clustering': KMeans(max_iter=1000, n_clusters=50, n_init=30, random_state=0), 'Dimensionality Reduction': UMAP(metric='cosine', n_components=50)}\n"
          ]
        }
      ],
      "source": [
        "from sklearn.metrics import homogeneity_score, make_scorer\n",
        "def score_func(y_true, y_pred, **kwargs):\n",
        "    return metrics.adjusted_rand_score(y_true, y_pred)\n",
        "    #return metrics.silhouette_score(y_true, y_pred)\n",
        "\n",
        "scorer = make_scorer(score_func) \n",
        "params1 = {    \n",
        "    'Dimensionality Reduction':['passthrough',TruncatedSVD(n_components=50),\n",
        "                                umap.UMAP(n_components=50,metric = 'cosine'),\n",
        "                               Autoencoder(n_components=50)\n",
        "                               ],\n",
        "    'Clustering': [KMeans(n_clusters=50, max_iter=1000,n_init=30,random_state=0),\n",
        "                  ] \n",
        "    }\n",
        "\n",
        "pipe1 = Pipeline([\n",
        "                     ('Dimensionality Reduction',umap.UMAP(n_components = 50,\n",
        "                                                           metric = 'cosine')),\n",
        "                     ('Clustering',KMeans(max_iter=1000,n_init=30,random_state=0))\n",
        "                    ])\n",
        "\n",
        "search1 = GridSearchCV(pipe1, params1, cv=3, refit=True, verbose=2,\n",
        "                       scoring=scorer)\n",
        "search1.fit(f_all,y_all)\n",
        "print(\"Best parameter score: (CV score=%0.3f) \" % search1.best_score_)\n",
        "print(\"Best combination: \",search1.best_params_)\n"
      ]
    },
    {
      "cell_type": "markdown",
      "id": "fd598601",
      "metadata": {
        "id": "fd598601"
      },
      "source": [
        "### Evaluation of AgglomerativeClustering"
      ]
    },
    {
      "cell_type": "code",
      "execution_count": 6,
      "id": "efdf9889",
      "metadata": {
        "colab": {
          "base_uri": "https://localhost:8080/"
        },
        "id": "efdf9889",
        "outputId": "725e1d14-fe25-41cf-f615-b7743b549e10"
      },
      "outputs": [
        {
          "output_type": "stream",
          "name": "stderr",
          "text": [
            "100%|██████████| 100/100 [00:22<00:00,  4.37it/s]\n"
          ]
        },
        {
          "output_type": "stream",
          "name": "stdout",
          "text": [
            "Best parameter  for Agglomerative Clustering gives score: (CV score=0.456)\n",
            "Best dimension reduction algorithm:  UMAP(angular_rp_forest=True, metric='cosine', n_components=50, tqdm_kwds={'bar_format': '{desc}: {percentage:3.0f}%| {bar} {n_fmt}/{total_fmt} [{elapsed}]', 'desc': 'Epochs completed', 'disable': True})\n"
          ]
        }
      ],
      "source": [
        "dim_alg = ['passthrough',TruncatedSVD(n_components=50),\n",
        "                                umap.UMAP(n_components=50,metric = 'cosine'),\n",
        "                               Autoencoder(n_components=50)\n",
        "                               ]\n",
        "best_alg = None\n",
        "best_score = float('-inf')\n",
        "\n",
        "for alg in dim_alg:\n",
        "    \n",
        "    pipe2 = Pipeline([\n",
        "                     ('Dimensionality Reduction',alg),\n",
        "                     ('Clustering',AgglomerativeClustering(n_clusters=5,\n",
        "                                                           linkage='ward'))\n",
        "                    ])\n",
        "    \n",
        "    pipe2.fit(f_all)\n",
        "    labels_pred = pipe2['Clustering'].labels_\n",
        "    score = metrics.adjusted_rand_score(y_all, labels_pred)\n",
        "    if score>best_score:\n",
        "        best_score = score\n",
        "        best_alg = alg\n",
        "\n",
        "        \n",
        "print(\"Best parameter for Agglomerative Clustering gives score: (CV score=%0.3f)\" % best_score)\n",
        "print(\"Best dimension reduction algorithm: \",best_alg)\n",
        "    \n",
        "    \n",
        "    "
      ]
    },
    {
      "cell_type": "markdown",
      "source": [
        "### Evaluation of HDBSCAN\n"
      ],
      "metadata": {
        "id": "3t7dB076Q9i1"
      },
      "id": "3t7dB076Q9i1"
    },
    {
      "cell_type": "code",
      "execution_count": 8,
      "id": "e0f4318b",
      "metadata": {
        "colab": {
          "base_uri": "https://localhost:8080/"
        },
        "id": "e0f4318b",
        "outputId": "55fe2e7d-3b0d-402d-f19a-d7fe96000a4e"
      },
      "outputs": [
        {
          "output_type": "stream",
          "name": "stdout",
          "text": [
            "checking min_cluster_size 50 and min_samples 50\n",
            "checking min_cluster_size 50 and min_samples 200\n",
            "checking min_cluster_size 100 and min_samples 50\n",
            "checking min_cluster_size 100 and min_samples 200\n",
            "checking min_cluster_size 50 and min_samples 50\n",
            "checking min_cluster_size 50 and min_samples 200\n",
            "checking min_cluster_size 100 and min_samples 50\n",
            "checking min_cluster_size 100 and min_samples 200\n",
            "checking min_cluster_size 50 and min_samples 50\n",
            "checking min_cluster_size 50 and min_samples 200\n",
            "checking min_cluster_size 100 and min_samples 50\n",
            "checking min_cluster_size 100 and min_samples 200\n",
            "checking min_cluster_size 50 and min_samples 50\n",
            "checking min_cluster_size 50 and min_samples 200\n",
            "checking min_cluster_size 100 and min_samples 50\n",
            "checking min_cluster_size 100 and min_samples 200\n",
            "Best parameter for HDBSCAN Clustering gives score: (CV score=0.371)\n",
            "Best dimension reduction algorithm:  UMAP(angular_rp_forest=True, metric='cosine', n_components=50, tqdm_kwds={'bar_format': '{desc}: {percentage:3.0f}%| {bar} {n_fmt}/{total_fmt} [{elapsed}]', 'desc': 'Epochs completed', 'disable': True})\n",
            "Best min_cluster_size:  50\n",
            "Best min_samples:  200\n"
          ]
        }
      ],
      "source": [
        "best_alg = None\n",
        "best_score = float('-inf')\n",
        "\n",
        "Clustering__min_cluster_size=[50,100]\n",
        "Clustering__min_samples=[50,200]\n",
        "best_cluster_size = None\n",
        "best_samples = None\n",
        "\n",
        "for alg in dim_alg:\n",
        "    for c in Clustering__min_cluster_size:\n",
        "        for s in Clustering__min_samples:\n",
        "            print(f'checking min_cluster_size {c} and min_samples {s}')\n",
        "            pipe3 = Pipeline([\n",
        "                     ('Dimensionality Reduction',umap.UMAP(n_components = 20, metric = 'cosine')),\n",
        "                     ('Clustering',hdbscan.HDBSCAN(min_cluster_size = c, min_samples=s, metric='manhattan'))\n",
        "                    ])\n",
        "            \n",
        "            pipe3.fit(f_all)\n",
        "            labels_pred = pipe3['Clustering'].labels_\n",
        "            score = metrics.adjusted_rand_score(y_all, labels_pred)\n",
        "            if score>best_score:\n",
        "                best_score = score\n",
        "                best_alg = alg\n",
        "                best_cluster_size = c\n",
        "                best_samples = s\n",
        "print(\"Best parameter for HDBSCAN Clustering gives score: (CV score=%0.3f)\" % best_score)\n",
        "print(\"Best dimension reduction algorithm: \",best_alg)\n",
        "print(\"Best min_cluster_size: \",best_cluster_size)\n",
        "print(\"Best min_samples: \",best_samples)"
      ]
    },
    {
      "cell_type": "markdown",
      "source": [
        "Based on these results, the best choice is: <br>\n",
        "*Best parameter  for Agglomerative Clustering gives score: (CV score=0.456)\n",
        "Best dimension reduction algorithm:  UMAP( metric='cosine', n_components=50)*"
      ],
      "metadata": {
        "id": "yL5J6nJkWM4r"
      },
      "id": "yL5J6nJkWM4r"
    },
    {
      "cell_type": "markdown",
      "source": [
        "QUESTION 25: Report the test accuracy of the MLP classifier on the original VGG features. Report the same when using the reduced-dimension features (you have freedom in choosing the dimensionality reduction algorithm and its parameters). Does the performance of the model suffer with the reduced-dimension representations? Is it significant? Does the success in classification make sense in the context of the clustering results obtained for the same features in Question 24. <br>\n",
        "*Please see below:*"
      ],
      "metadata": {
        "id": "3qu628zQaa0g"
      },
      "id": "3qu628zQaa0g"
    },
    {
      "cell_type": "code",
      "execution_count": null,
      "metadata": {
        "id": "4hqohaAfnvVr"
      },
      "outputs": [],
      "source": [
        "class MLP(torch.nn.Module):\n",
        "    def __init__(self, num_features):\n",
        "        super().__init__()\n",
        "        self.model = nn.Sequential(\n",
        "            nn.Linear(num_features, 1280),\n",
        "            nn.ReLU(True),\n",
        "            nn.Linear(1280, 640),\n",
        "            nn.ReLU(True), \n",
        "            nn.Linear(640, 5),\n",
        "            nn.LogSoftmax(dim=1)\n",
        "        )\n",
        "        self.cuda()\n",
        "    \n",
        "    \n",
        "    def forward(self, X):\n",
        "        return self.model(X)\n",
        "    \n",
        "    def train(self, X, y):\n",
        "        X = torch.tensor(X, dtype=torch.float32, device='cuda')\n",
        "        y = torch.tensor(y, dtype=torch.int64, device='cuda')\n",
        "\n",
        "        self.model.train()\n",
        "        \n",
        "        criterion = nn.NLLLoss()\n",
        "        optimizer = torch.optim.Adam(self.parameters(), lr=1e-3, weight_decay=1e-5)\n",
        "\n",
        "        dataset = TensorDataset(X, y)\n",
        "        dataloader = DataLoader(dataset, batch_size=128, shuffle=True)\n",
        "\n",
        "        for epoch in tqdm(range(100)):#100\n",
        "            \n",
        "            for i,(X_, y_) in enumerate(dataloader):\n",
        "                ##################################\n",
        "                # you should implement this part #\n",
        "                ##################################\n",
        "                #raise NotImplementedError\n",
        "\n",
        "                # reset gradients\n",
        "                optimizer.zero_grad()\n",
        "\n",
        "                # forward pass\n",
        "                pred = self.model(X_)\n",
        "                # compute loss\n",
        "                loss = criterion(pred, y_)\n",
        "                # backward pass \n",
        "                loss.backward()\n",
        "                # optimize\n",
        "                optimizer.step()\n",
        "                \n",
        "        return self\n",
        "    \n",
        "    def eval(self, X_test, y_test):\n",
        "        ##################################\n",
        "        # you should implement this part #\n",
        "        ##################################\n",
        "        #raise NotImplementedError\n",
        "        classes = list(range(0,5))\n",
        "        correct_pred = {classname: 0 for classname in classes}\n",
        "        total_pred = {classname: 0 for classname in classes}\n",
        "\n",
        "        X_test = torch.tensor(X_test, dtype=torch.float32, device='cuda')\n",
        "        y_test = torch.tensor(y_test, dtype=torch.int64, device='cuda')\n",
        "\n",
        "        dataset = TensorDataset(X_test, y_test)\n",
        "        dataloader = DataLoader(dataset, batch_size=128, shuffle=False)\n",
        "\n",
        "        with torch.no_grad():\n",
        "          for data in dataloader:\n",
        "              images, labels = data\n",
        "              outputs = self.model(images)\n",
        "              _, predictions = torch.max(outputs, 1)\n",
        "              # collect the correct predictions for each class\n",
        "              for label, prediction in zip(labels, predictions):\n",
        "                  if label == prediction:\n",
        "                      correct_pred[classes[label]] += 1\n",
        "                  total_pred[classes[label]] += 1\n",
        "\n",
        "        accuracy = [0 for i in range(5)]\n",
        "        for classname, correct_count in correct_pred.items():\n",
        "              accuracy[classname] = 100 * float(correct_count) / total_pred[classname]\n",
        "              print(f'accuracy of class {classname}: ',accuracy[classname])\n",
        "\n",
        "        avg_acc = np.mean(accuracy)\n",
        "        print('average accuracy: ',avg_acc)\n",
        "        return avg_acc\n"
      ],
      "id": "4hqohaAfnvVr"
    },
    {
      "cell_type": "code",
      "source": [
        "\"\"\"\n",
        "from sklearn.preprocessing import OneHotEncoder\n",
        "encoder=OneHotEncoder()\n",
        "y_all = encoder.fit_transform(y_all.reshape(-1, 1))\n",
        "\"\"\"\n",
        "X_train, X_test, y_train, y_test = train_test_split(f_all, y_all, test_size=0.2, random_state=42)"
      ],
      "metadata": {
        "id": "2r0oCLUktXRp"
      },
      "id": "2r0oCLUktXRp",
      "execution_count": null,
      "outputs": []
    },
    {
      "cell_type": "markdown",
      "source": [
        "### Evaluating MLP classifier on the original VGG features"
      ],
      "metadata": {
        "id": "MkPkOdjJoDhy"
      },
      "id": "MkPkOdjJoDhy"
    },
    {
      "cell_type": "code",
      "source": [
        "from sklearn.model_selection import train_test_split\n",
        "classifier = MLP(num_features = f_all.shape[1])\n",
        "classifier.train(X_train,y_train)\n",
        "acc = classifier.eval(X_test,y_test)\n"
      ],
      "metadata": {
        "id": "-o91QXiraWtD",
        "colab": {
          "base_uri": "https://localhost:8080/"
        },
        "outputId": "5c9c055c-e2fd-40ca-8900-d89901edd931"
      },
      "id": "-o91QXiraWtD",
      "execution_count": null,
      "outputs": [
        {
          "output_type": "stream",
          "name": "stderr",
          "text": [
            "100%|██████████| 100/100 [00:08<00:00, 11.73it/s]\n"
          ]
        },
        {
          "output_type": "stream",
          "name": "stdout",
          "text": [
            "accuracy of class 0:  92.06349206349206\n",
            "accuracy of class 1:  97.02380952380952\n",
            "accuracy of class 2:  85.9375\n",
            "accuracy of class 3:  93.89312977099236\n",
            "accuracy of class 4:  86.1878453038674\n",
            "average accuracy:  91.02115533243226\n"
          ]
        }
      ]
    },
    {
      "cell_type": "markdown",
      "source": [
        "### Evaluating MLP classifier on the reduced dimension vectors"
      ],
      "metadata": {
        "id": "iJLI2Rks6U3q"
      },
      "id": "iJLI2Rks6U3q"
    },
    {
      "cell_type": "code",
      "source": [
        "alg = umap.UMAP(metric='cosine', n_components=50)\n",
        "X_tr = alg.fit_transform(X_train)\n",
        "X_ts = alg.transform(X_test)\n",
        "\n",
        "classifier = MLP(num_features = X_tr.shape[1])\n",
        "\n",
        "classifier.train(X_tr,y_train)\n",
        "acc = classifier.eval(X_ts,y_test)\n"
      ],
      "metadata": {
        "colab": {
          "base_uri": "https://localhost:8080/"
        },
        "id": "QUZYqMjCs5L0",
        "outputId": "6925c9a4-be90-4a51-9c05-a1d21437ff32"
      },
      "id": "QUZYqMjCs5L0",
      "execution_count": null,
      "outputs": [
        {
          "output_type": "stream",
          "name": "stderr",
          "text": [
            "100%|██████████| 100/100 [00:05<00:00, 17.40it/s]"
          ]
        },
        {
          "output_type": "stream",
          "name": "stdout",
          "text": [
            "accuracy of class 0:  89.68253968253968\n",
            "accuracy of class 1:  92.26190476190476\n",
            "accuracy of class 2:  75.78125\n",
            "accuracy of class 3:  81.6793893129771\n",
            "accuracy of class 4:  81.21546961325967\n",
            "average accuracy:  84.12411067413625\n"
          ]
        },
        {
          "output_type": "stream",
          "name": "stderr",
          "text": [
            "\n"
          ]
        }
      ]
    },
    {
      "cell_type": "markdown",
      "source": [
        "*The average testing accuracty is slightly lower when we use dimensionality reduction algorithm. This difference can be considered significant given the low number of classes. The clustering results with these features were relatively satisfactory in Q24 when using rand score so the result of Q25 does make sense.*"
      ],
      "metadata": {
        "id": "8BGMiKqC-ZHe"
      },
      "id": "8BGMiKqC-ZHe"
    }
  ],
  "metadata": {
    "kernelspec": {
      "display_name": "Python 3 (ipykernel)",
      "language": "python",
      "name": "python3"
    },
    "language_info": {
      "codemirror_mode": {
        "name": "ipython",
        "version": 3
      },
      "file_extension": ".py",
      "mimetype": "text/x-python",
      "name": "python",
      "nbconvert_exporter": "python",
      "pygments_lexer": "ipython3",
      "version": "3.8.8"
    },
    "colab": {
      "provenance": []
    },
    "accelerator": "GPU",
    "gpuClass": "standard",
    "widgets": {
      "application/vnd.jupyter.widget-state+json": {
        "31c1fa9acf9347e1891a5e4fa6fcfd0f": {
          "model_module": "@jupyter-widgets/controls",
          "model_name": "HBoxModel",
          "model_module_version": "1.5.0",
          "state": {
            "_dom_classes": [],
            "_model_module": "@jupyter-widgets/controls",
            "_model_module_version": "1.5.0",
            "_model_name": "HBoxModel",
            "_view_count": null,
            "_view_module": "@jupyter-widgets/controls",
            "_view_module_version": "1.5.0",
            "_view_name": "HBoxView",
            "box_style": "",
            "children": [
              "IPY_MODEL_67e40992dfdb4b4ba0e540c3ef5fe341",
              "IPY_MODEL_da05f73da3e74d17afe2e00f5b39180e",
              "IPY_MODEL_6a6ce6e778dc49e39f3bb4ea135e775f"
            ],
            "layout": "IPY_MODEL_8fad4bed52d74492a9cbdfadb26e38e2"
          }
        },
        "67e40992dfdb4b4ba0e540c3ef5fe341": {
          "model_module": "@jupyter-widgets/controls",
          "model_name": "HTMLModel",
          "model_module_version": "1.5.0",
          "state": {
            "_dom_classes": [],
            "_model_module": "@jupyter-widgets/controls",
            "_model_module_version": "1.5.0",
            "_model_name": "HTMLModel",
            "_view_count": null,
            "_view_module": "@jupyter-widgets/controls",
            "_view_module_version": "1.5.0",
            "_view_name": "HTMLView",
            "description": "",
            "description_tooltip": null,
            "layout": "IPY_MODEL_af19643aaa4643c4acaa821a27d14b6e",
            "placeholder": "​",
            "style": "IPY_MODEL_95d37acc4c864ae8802d9fb38f96971b",
            "value": "100%"
          }
        },
        "da05f73da3e74d17afe2e00f5b39180e": {
          "model_module": "@jupyter-widgets/controls",
          "model_name": "FloatProgressModel",
          "model_module_version": "1.5.0",
          "state": {
            "_dom_classes": [],
            "_model_module": "@jupyter-widgets/controls",
            "_model_module_version": "1.5.0",
            "_model_name": "FloatProgressModel",
            "_view_count": null,
            "_view_module": "@jupyter-widgets/controls",
            "_view_module_version": "1.5.0",
            "_view_name": "ProgressView",
            "bar_style": "success",
            "description": "",
            "description_tooltip": null,
            "layout": "IPY_MODEL_9c5e5511920a4dcf9e3200cab5125522",
            "max": 553433881,
            "min": 0,
            "orientation": "horizontal",
            "style": "IPY_MODEL_5d587de1675e479eb9bbe8f220fc9ec3",
            "value": 553433881
          }
        },
        "6a6ce6e778dc49e39f3bb4ea135e775f": {
          "model_module": "@jupyter-widgets/controls",
          "model_name": "HTMLModel",
          "model_module_version": "1.5.0",
          "state": {
            "_dom_classes": [],
            "_model_module": "@jupyter-widgets/controls",
            "_model_module_version": "1.5.0",
            "_model_name": "HTMLModel",
            "_view_count": null,
            "_view_module": "@jupyter-widgets/controls",
            "_view_module_version": "1.5.0",
            "_view_name": "HTMLView",
            "description": "",
            "description_tooltip": null,
            "layout": "IPY_MODEL_d61cf6ef555c4c64b369b29f037143cd",
            "placeholder": "​",
            "style": "IPY_MODEL_55b633944ff24f75a9d925e3295a6abd",
            "value": " 528M/528M [00:05&lt;00:00, 260MB/s]"
          }
        },
        "8fad4bed52d74492a9cbdfadb26e38e2": {
          "model_module": "@jupyter-widgets/base",
          "model_name": "LayoutModel",
          "model_module_version": "1.2.0",
          "state": {
            "_model_module": "@jupyter-widgets/base",
            "_model_module_version": "1.2.0",
            "_model_name": "LayoutModel",
            "_view_count": null,
            "_view_module": "@jupyter-widgets/base",
            "_view_module_version": "1.2.0",
            "_view_name": "LayoutView",
            "align_content": null,
            "align_items": null,
            "align_self": null,
            "border": null,
            "bottom": null,
            "display": null,
            "flex": null,
            "flex_flow": null,
            "grid_area": null,
            "grid_auto_columns": null,
            "grid_auto_flow": null,
            "grid_auto_rows": null,
            "grid_column": null,
            "grid_gap": null,
            "grid_row": null,
            "grid_template_areas": null,
            "grid_template_columns": null,
            "grid_template_rows": null,
            "height": null,
            "justify_content": null,
            "justify_items": null,
            "left": null,
            "margin": null,
            "max_height": null,
            "max_width": null,
            "min_height": null,
            "min_width": null,
            "object_fit": null,
            "object_position": null,
            "order": null,
            "overflow": null,
            "overflow_x": null,
            "overflow_y": null,
            "padding": null,
            "right": null,
            "top": null,
            "visibility": null,
            "width": null
          }
        },
        "af19643aaa4643c4acaa821a27d14b6e": {
          "model_module": "@jupyter-widgets/base",
          "model_name": "LayoutModel",
          "model_module_version": "1.2.0",
          "state": {
            "_model_module": "@jupyter-widgets/base",
            "_model_module_version": "1.2.0",
            "_model_name": "LayoutModel",
            "_view_count": null,
            "_view_module": "@jupyter-widgets/base",
            "_view_module_version": "1.2.0",
            "_view_name": "LayoutView",
            "align_content": null,
            "align_items": null,
            "align_self": null,
            "border": null,
            "bottom": null,
            "display": null,
            "flex": null,
            "flex_flow": null,
            "grid_area": null,
            "grid_auto_columns": null,
            "grid_auto_flow": null,
            "grid_auto_rows": null,
            "grid_column": null,
            "grid_gap": null,
            "grid_row": null,
            "grid_template_areas": null,
            "grid_template_columns": null,
            "grid_template_rows": null,
            "height": null,
            "justify_content": null,
            "justify_items": null,
            "left": null,
            "margin": null,
            "max_height": null,
            "max_width": null,
            "min_height": null,
            "min_width": null,
            "object_fit": null,
            "object_position": null,
            "order": null,
            "overflow": null,
            "overflow_x": null,
            "overflow_y": null,
            "padding": null,
            "right": null,
            "top": null,
            "visibility": null,
            "width": null
          }
        },
        "95d37acc4c864ae8802d9fb38f96971b": {
          "model_module": "@jupyter-widgets/controls",
          "model_name": "DescriptionStyleModel",
          "model_module_version": "1.5.0",
          "state": {
            "_model_module": "@jupyter-widgets/controls",
            "_model_module_version": "1.5.0",
            "_model_name": "DescriptionStyleModel",
            "_view_count": null,
            "_view_module": "@jupyter-widgets/base",
            "_view_module_version": "1.2.0",
            "_view_name": "StyleView",
            "description_width": ""
          }
        },
        "9c5e5511920a4dcf9e3200cab5125522": {
          "model_module": "@jupyter-widgets/base",
          "model_name": "LayoutModel",
          "model_module_version": "1.2.0",
          "state": {
            "_model_module": "@jupyter-widgets/base",
            "_model_module_version": "1.2.0",
            "_model_name": "LayoutModel",
            "_view_count": null,
            "_view_module": "@jupyter-widgets/base",
            "_view_module_version": "1.2.0",
            "_view_name": "LayoutView",
            "align_content": null,
            "align_items": null,
            "align_self": null,
            "border": null,
            "bottom": null,
            "display": null,
            "flex": null,
            "flex_flow": null,
            "grid_area": null,
            "grid_auto_columns": null,
            "grid_auto_flow": null,
            "grid_auto_rows": null,
            "grid_column": null,
            "grid_gap": null,
            "grid_row": null,
            "grid_template_areas": null,
            "grid_template_columns": null,
            "grid_template_rows": null,
            "height": null,
            "justify_content": null,
            "justify_items": null,
            "left": null,
            "margin": null,
            "max_height": null,
            "max_width": null,
            "min_height": null,
            "min_width": null,
            "object_fit": null,
            "object_position": null,
            "order": null,
            "overflow": null,
            "overflow_x": null,
            "overflow_y": null,
            "padding": null,
            "right": null,
            "top": null,
            "visibility": null,
            "width": null
          }
        },
        "5d587de1675e479eb9bbe8f220fc9ec3": {
          "model_module": "@jupyter-widgets/controls",
          "model_name": "ProgressStyleModel",
          "model_module_version": "1.5.0",
          "state": {
            "_model_module": "@jupyter-widgets/controls",
            "_model_module_version": "1.5.0",
            "_model_name": "ProgressStyleModel",
            "_view_count": null,
            "_view_module": "@jupyter-widgets/base",
            "_view_module_version": "1.2.0",
            "_view_name": "StyleView",
            "bar_color": null,
            "description_width": ""
          }
        },
        "d61cf6ef555c4c64b369b29f037143cd": {
          "model_module": "@jupyter-widgets/base",
          "model_name": "LayoutModel",
          "model_module_version": "1.2.0",
          "state": {
            "_model_module": "@jupyter-widgets/base",
            "_model_module_version": "1.2.0",
            "_model_name": "LayoutModel",
            "_view_count": null,
            "_view_module": "@jupyter-widgets/base",
            "_view_module_version": "1.2.0",
            "_view_name": "LayoutView",
            "align_content": null,
            "align_items": null,
            "align_self": null,
            "border": null,
            "bottom": null,
            "display": null,
            "flex": null,
            "flex_flow": null,
            "grid_area": null,
            "grid_auto_columns": null,
            "grid_auto_flow": null,
            "grid_auto_rows": null,
            "grid_column": null,
            "grid_gap": null,
            "grid_row": null,
            "grid_template_areas": null,
            "grid_template_columns": null,
            "grid_template_rows": null,
            "height": null,
            "justify_content": null,
            "justify_items": null,
            "left": null,
            "margin": null,
            "max_height": null,
            "max_width": null,
            "min_height": null,
            "min_width": null,
            "object_fit": null,
            "object_position": null,
            "order": null,
            "overflow": null,
            "overflow_x": null,
            "overflow_y": null,
            "padding": null,
            "right": null,
            "top": null,
            "visibility": null,
            "width": null
          }
        },
        "55b633944ff24f75a9d925e3295a6abd": {
          "model_module": "@jupyter-widgets/controls",
          "model_name": "DescriptionStyleModel",
          "model_module_version": "1.5.0",
          "state": {
            "_model_module": "@jupyter-widgets/controls",
            "_model_module_version": "1.5.0",
            "_model_name": "DescriptionStyleModel",
            "_view_count": null,
            "_view_module": "@jupyter-widgets/base",
            "_view_module_version": "1.2.0",
            "_view_name": "StyleView",
            "description_width": ""
          }
        }
      }
    }
  },
  "nbformat": 4,
  "nbformat_minor": 5
}
